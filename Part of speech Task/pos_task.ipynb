{
 "cells": [
  {
   "cell_type": "code",
   "execution_count": 1,
   "id": "4ce0ab0b",
   "metadata": {
    "scrolled": false
   },
   "outputs": [],
   "source": [
    "from natasha import Doc, Segmenter, NewsEmbedding, NewsMorphTagger"
   ]
  },
  {
   "cell_type": "markdown",
   "id": "7a1089b3",
   "metadata": {},
   "source": [
    "Код:"
   ]
  },
  {
   "cell_type": "code",
   "execution_count": 2,
   "id": "33142fc8",
   "metadata": {},
   "outputs": [],
   "source": [
    "def program(text_path, query):\n",
    "\n",
    "    with open(text_path, 'r', encoding='utf-8') as f:\n",
    "        text = f.read()\n",
    "\n",
    "    doc = Doc(text)\n",
    "    \n",
    "    segmenter = Segmenter()\n",
    "    doc.segment(segmenter)\n",
    "    \n",
    "    tagger = NewsMorphTagger(NewsEmbedding())\n",
    "    doc.tag_morph(tagger)\n",
    "\n",
    "    \n",
    "    pos_text = list(map(lambda token : token.pos, doc.tokens))\n",
    "    poses = set(pos_text)\n",
    "    pos_symbol_map = {}\n",
    "    pointer = 0\n",
    "    for pos in poses:\n",
    "        pos_symbol_map[pos] = chr(ord('a') + pointer)\n",
    "        pointer +=1\n",
    "\n",
    "    def convert_to_symbols(poses):\n",
    "        result = map(lambda pos : pos_symbol_map[pos], poses)\n",
    "        return ''.join(result)\n",
    "\n",
    "    symbol_text = convert_to_symbols(pos_text)\n",
    "    symbol_query = convert_to_symbols(query.split())\n",
    "\n",
    "    \n",
    "    # путем подсчета z-функции ищет все вхождения sample в text за линейное время\n",
    "    # мог бы использовать re.findall, но так быстрее\n",
    "    def find_occurences(sample, text):\n",
    "        s = sample + '$' + text\n",
    "\n",
    "        n = len(s)\n",
    "        z = [0] * n\n",
    "        z[0] = 0\n",
    "        l = r = 0\n",
    "\n",
    "        # подсчет z-функции\n",
    "        for i in range(1, n):\n",
    "            k = max(min(z[i-l], r-i), 0)\n",
    "            while i + k < n and s[i+k]==s[k]:\n",
    "                k += 1\n",
    "            z[i] = k\n",
    "            if i + z[i] > r:\n",
    "                l = i\n",
    "                r = i + z[i]\n",
    "\n",
    "\n",
    "        occurences = []\n",
    "        for i in range(len(sample) + 1, n):\n",
    "            if z[i] == len(sample):\n",
    "                occurences.append(i - (len(sample) + 1))\n",
    "\n",
    "        return occurences\n",
    "\n",
    "    occurences = find_occurences(symbol_query, symbol_text)\n",
    "\n",
    "    \n",
    "    result = []\n",
    "    for pointer in occurences:\n",
    "        tokens = doc.tokens[pointer : pointer + len(symbol_query)]\n",
    "        tokens = map(lambda token : token.text, tokens)\n",
    "        result.append(' '.join(tokens))\n",
    "    \n",
    "    return result"
   ]
  },
  {
   "cell_type": "markdown",
   "id": "2a7eb09f",
   "metadata": {},
   "source": [
    " "
   ]
  },
  {
   "cell_type": "markdown",
   "id": "06e09be5",
   "metadata": {},
   "source": [
    "Использование:"
   ]
  },
  {
   "cell_type": "code",
   "execution_count": 3,
   "id": "9667ba71",
   "metadata": {},
   "outputs": [],
   "source": [
    "text_path = 'text.txt'\n",
    "\n",
    "query = 'ADJ NOUN PUNCT'"
   ]
  },
  {
   "cell_type": "code",
   "execution_count": 4,
   "id": "92e78265",
   "metadata": {},
   "outputs": [
    {
     "data": {
      "text/plain": [
       "['английской девочки ,',\n",
       " '2020 года .',\n",
       " 'оценён критиками ,',\n",
       " 'визуальную составляющую .']"
      ]
     },
     "execution_count": 4,
     "metadata": {},
     "output_type": "execute_result"
    }
   ],
   "source": [
    "result = program(text_path, query)\n",
    "result"
   ]
  }
 ],
 "metadata": {
  "kernelspec": {
   "display_name": "Python 3 (ipykernel)",
   "language": "python",
   "name": "python3"
  },
  "language_info": {
   "codemirror_mode": {
    "name": "ipython",
    "version": 3
   },
   "file_extension": ".py",
   "mimetype": "text/x-python",
   "name": "python",
   "nbconvert_exporter": "python",
   "pygments_lexer": "ipython3",
   "version": "3.10.2"
  }
 },
 "nbformat": 4,
 "nbformat_minor": 5
}
