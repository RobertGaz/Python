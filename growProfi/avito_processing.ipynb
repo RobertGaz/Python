{
 "cells": [
  {
   "cell_type": "code",
   "execution_count": 1,
   "metadata": {},
   "outputs": [],
   "source": [
    "import re\n",
    "import requests\n",
    "import os\n",
    "import pandas as pd\n",
    "import numpy as np \n",
    "\n",
    "from lxml.etree import Element, SubElement, tostring, CDATA"
   ]
  },
  {
   "cell_type": "code",
   "execution_count": 2,
   "metadata": {},
   "outputs": [],
   "source": [
    "# открываем из экселек \n",
    "\n",
    "price = pd.read_csv('price.csv', encoding='windows-1251', sep=';')\n",
    "price = price.rename(columns={'Номенклатура': 'name'})\n",
    "price.name = price.name.str.strip()\n",
    "price['Цена'] = price['Цена'].str.replace(u'\\xa0', u' ')\n",
    "price['Цена'] = price['Цена'].str.replace(u' ', u'')\n",
    "price['Цена'] = price['Цена'].str.replace(u',', u'.')\n",
    "price['Остаток'] = price['Остаток'].str.replace(u'\\xa0', u' ')\n",
    "price['Остаток'] = price['Остаток'].str.replace(u' ', u'')\n",
    "price['Остаток'] = price['Остаток'].str.replace(u',', u'.')\n",
    "price['Цена'].fillna('0', inplace=True)\n",
    "price['Цена'] = price['Цена'].astype('float')\n",
    "price['Цена'] = np.floor(price['Цена'])\n",
    "price['Цена'] = price['Цена'].astype('int')\n",
    "# price = price[price['Цена'] >= 20000]\n",
    "\n",
    "\n",
    "catalog = pd.read_excel('catalog.xlsx')\n",
    "catalog.name = catalog.name.str.strip()\n",
    "catalog.description.fillna('', inplace=True)\n",
    "catalog.description = catalog.description.str.strip()\n",
    "\n",
    "\n",
    "pics = pd.read_excel('pics.xlsx')\n",
    "pics.name = pics.name.str.strip()\n",
    "\n",
    "df=pd.merge(catalog, price, on='name', how='inner')"
   ]
  },
  {
   "cell_type": "code",
   "execution_count": 3,
   "metadata": {},
   "outputs": [],
   "source": [
    "ads = Element('Ads')\n",
    "ads.set('formatVersion', '3')\n",
    "ads.set('target', 'Avito.ru')"
   ]
  },
  {
   "cell_type": "code",
   "execution_count": 4,
   "metadata": {},
   "outputs": [],
   "source": [
    "regexp = ',*\\s*(\\d+)\\s*шт/уп'\n",
    "desc_footer = '<br/><br/><strong> При заказе от 2000 рублей бесплатная доставка по Казани в этот же день. Оплата при получении. <br/> Звоните и пишите! </strong>'"
   ]
  },
  {
   "cell_type": "code",
   "execution_count": 5,
   "metadata": {},
   "outputs": [],
   "source": [
    "for i in range(df.shape[0]):\n",
    "    ad = SubElement(ads, 'Ad')\n",
    "    \n",
    "    elem = SubElement(ad, 'Id')\n",
    "    elem.text = df['Артикул'][i]\n",
    "    \n",
    "    elem = SubElement(ad, 'Address')\n",
    "    elem.text = 'Россия, Казань'\n",
    "    \n",
    "    elem = SubElement(ad, 'Category')\n",
    "    elem.text = 'Растения'\n",
    "    \n",
    "    \n",
    "#     обработка шт/уп:\n",
    "    amnt = 1\n",
    "    name = df['name'][i]\n",
    "    many = re.search(regexp, name)\n",
    "    if many:\n",
    "        amnt = int(many.group(1))\n",
    "        name = re.sub(regexp, '', name)\n",
    "        \n",
    "    elem = SubElement(ad, 'Title')\n",
    "    elem.text = name \n",
    "    \n",
    "    elem = SubElement(ad, 'Description')\n",
    "    elem.text = CDATA(df['description'][i] + desc_footer) \n",
    "    \n",
    "    elem = SubElement(ad, 'Price')\n",
    "    elem.text = str(int(df['Цена'][i]/amnt))\n",
    "    \n",
    "    elem = SubElement(ad, 'AdType')\n",
    "    elem.text = 'Товар приобретен на продажу'\n",
    "    \n",
    "    images = SubElement(ad, 'Images')\n",
    "    \n",
    "    url_count = 0\n",
    "    for url in pics[pics.name==df['name'][i]]['img_url']:\n",
    "        image = SubElement(images, 'Image')\n",
    "        image.set('url', url)\n",
    "        url_count +=1\n",
    "        if url_count == 5:\n",
    "            break\n",
    "        "
   ]
  },
  {
   "cell_type": "code",
   "execution_count": 6,
   "metadata": {},
   "outputs": [],
   "source": [
    "out = tostring(ads, pretty_print=True, encoding=str)\n",
    "\n",
    "with open('avito.xml', 'w', encoding='utf-8') as f:\n",
    "    f.write(out)"
   ]
  }
 ],
 "metadata": {
  "kernelspec": {
   "display_name": "Python 3",
   "language": "python",
   "name": "python3"
  },
  "language_info": {
   "codemirror_mode": {
    "name": "ipython",
    "version": 3
   },
   "file_extension": ".py",
   "mimetype": "text/x-python",
   "name": "python",
   "nbconvert_exporter": "python",
   "pygments_lexer": "ipython3",
   "version": "3.7.3"
  }
 },
 "nbformat": 4,
 "nbformat_minor": 2
}
