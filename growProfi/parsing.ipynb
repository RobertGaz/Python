{
 "cells": [
  {
   "cell_type": "code",
   "execution_count": 8,
   "metadata": {},
   "outputs": [],
   "source": [
    "from bs4 import BeautifulSoup\n",
    "from multiprocessing.dummy import Pool as ThreadPool\n",
    "from woocommerce import API\n",
    "from lxml import etree\n",
    "\n",
    "import re\n",
    "import requests\n",
    "import os\n",
    "import json\n",
    "import pandas as pd\n",
    "import numpy as np"
   ]
  },
  {
   "cell_type": "code",
   "execution_count": 3,
   "metadata": {},
   "outputs": [],
   "source": [
    "def get_items_by_category(category_id):\n",
    "    template = 'https://growtrade.ru/catalog/{}/'\n",
    "    items = []\n",
    "    \n",
    "    for i in range(5):\n",
    "        r = requests.get(template.format(category_id), params = {'SHOWALL_1': str(1)})\n",
    "        if r.status_code == 200:\n",
    "            break\n",
    "                \n",
    "    if r.status_code != 200:\n",
    "        print('stopping with category {0}: status code = {1}'.format(category_id, r.status_code))\n",
    "        return items\n",
    "        \n",
    "        \n",
    "    soup = BeautifulSoup(r.text, 'lxml')\n",
    "    for tag in soup.find_all('div', class_='catalog-item-title'):\n",
    "        link = tag.find('a').get('href')\n",
    "        items.append('https://growtrade.ru'+link)\n",
    "    \n",
    "    return items"
   ]
  },
  {
   "cell_type": "code",
   "execution_count": 4,
   "metadata": {},
   "outputs": [],
   "source": [
    "def download_item(item_link):\n",
    "    if item_link in processed_items:\n",
    "        return\n",
    "    for i in range(5):\n",
    "        r = requests.get(item_link)\n",
    "        if r.status_code == 200:\n",
    "            break\n",
    "\n",
    "    if r.status_code != 200:\n",
    "        print('stopping with item {0}: status code = {1}'.format(item_link, r.status_code))\n",
    "        return items\n",
    "    \n",
    "    soup = BeautifulSoup(r.text, 'lxml')\n",
    "    \n",
    "    name = soup.find('h1', id='pagetitle').text\n",
    "    name = name.strip()\n",
    "    \n",
    "    item_name = re.sub('[\\\\\\\\/:*?\\\"<>|]', '', name)\n",
    "    \n",
    "#     create folder for item files: \n",
    "    path = os.path.join(os.getcwd(), item_name)\n",
    "    print(path)\n",
    "    os.mkdir(path)\n",
    "    \n",
    "#     write item name to name.txt:\n",
    "    with open(item_name+'/'+'name.txt', 'w') as f:\n",
    "        f.write(name)\n",
    "    \n",
    "#     description download:\n",
    "    desc = soup.find('div', class_='catalog-detail-full-desc')\n",
    "    desc.h4.decompose()\n",
    "    desc.div.decompose()\n",
    "    desc = desc.decode_contents()\n",
    "    \n",
    "    with open(item_name+'/'+'description.txt', 'w') as f:\n",
    "        f.write(desc)\n",
    "    \n",
    "#     pictures download:        \n",
    "    i=1\n",
    "    for tag in soup.find_all('div', class_='catalog-detail-image'):\n",
    "        link = 'https://growtrade.ru' + tag.find('a').get('href')\n",
    "        img = requests.get(link)\n",
    "        with open(item_name+'/'+str(i)+'.jpg', 'wb') as f:\n",
    "            f.write(img.content)\n",
    "        i +=1\n",
    "    \n",
    "    processed_items.append(item_link)\n"
   ]
  },
  {
   "cell_type": "code",
   "execution_count": 5,
   "metadata": {},
   "outputs": [],
   "source": [
    "def process_item(item_link, catalog_df, pics_df):\n",
    "    if item_link in processed_items:\n",
    "        return catalog_df, pics_df \n",
    "    \n",
    "    for i in range(5):\n",
    "        r = requests.get(item_link)\n",
    "        if r.status_code == 200:\n",
    "            break\n",
    "    if r.status_code != 200:\n",
    "        print('stopping with item {0}: status code = {1}'.format(item_link, r.status_code))\n",
    "        return catalog_df, pics_df\n",
    "    \n",
    "    \n",
    "    soup = BeautifulSoup(r.text, 'lxml')\n",
    "    \n",
    "#     name:\n",
    "    name = soup.find('h1', id='pagetitle').text\n",
    "    name = name.strip()\n",
    "    \n",
    "#     description:\n",
    "    desc = soup.find('div', class_='catalog-detail-full-desc')\n",
    "    if desc: \n",
    "        desc.h4.decompose()\n",
    "        desc.div.decompose()\n",
    "        desc = desc.decode_contents()\n",
    "    \n",
    "#     category:\n",
    "    cat = item_link.split('/')[-3]\n",
    "    \n",
    "    catalog_row = {\n",
    "        'name': name,\n",
    "        'description': desc,\n",
    "        'category': cat\n",
    "    }\n",
    "    \n",
    "    catalog_df = catalog_df.append(catalog_row, ignore_index=True)\n",
    "    \n",
    "#     pictures:        \n",
    "    for tag in soup.find_all('div', class_='catalog-detail-image'):\n",
    "        link = 'https://growtrade.ru' + tag.find('a').get('href')\n",
    "        pics_row = {\n",
    "            'name': name,\n",
    "            'img_url': link\n",
    "        }\n",
    "        pics_df = pics_df.append(pics_row, ignore_index=True)    \n",
    "    \n",
    "    processed_items.append(item_link)\n",
    "    \n",
    "    return catalog_df, pics_df "
   ]
  },
  {
   "cell_type": "code",
   "execution_count": null,
   "metadata": {},
   "outputs": [],
   "source": [
    "# скачиваем категории\n",
    "\n",
    "category = dict()\n",
    "category_parent = dict()\n",
    "\n",
    "catalog = 'https://growtrade.ru/catalog/'\n",
    "\n",
    "for i in range(5):\n",
    "    r = requests.get(catalog)\n",
    "    if r.status_code == 200:\n",
    "        break\n",
    "                \n",
    "if r.status_code != 200:\n",
    "    print('stopping with category {0}: status code = {1}'.format(category_id, r.status_code))\n",
    "            \n",
    "soup = BeautifulSoup(r.text, 'lxml')\n",
    "for cat in soup.find_all('div', class_='catalog-section-info'):\n",
    "    parent = cat.find('div', class_='catalog-section-title')\n",
    "    \n",
    "    childs = cat.find('div', class_='catalog-section-childs')\n",
    "    for child in childs.find_all('a'):\n",
    "        link = child.get('href')\n",
    "        id = link.split('/')[-2]\n",
    "        id = int(id)\n",
    "        category[id] = child.getText()\n",
    "        category_parent[id] = parent.getText().strip() "
   ]
  },
  {
   "cell_type": "code",
   "execution_count": 106,
   "metadata": {
    "scrolled": true
   },
   "outputs": [],
   "source": [
    "# скачиваем ссылки товаров для каждой из категорий\n",
    "\n",
    "items = []\n",
    "for category_id in category.keys():\n",
    "    cur_items = get_items_by_category(category_id)\n",
    "    items += cur_items\n",
    "#     print('Retrieved {0} item links from {1}'.format(len(cur_items), category[category_id]))\n",
    "\n",
    "\n",
    "# Скачиваем товары и картинки и сохраняем в эксельки\n",
    "\n",
    "processed_items = []\n",
    "\n",
    "catalog = pd.DataFrame(columns=['name', 'description', 'category'])   \n",
    "pics = pd.DataFrame(columns=['name', 'img_url'])   \n",
    "\n",
    "for item in items:\n",
    "    catalog, pics = process_item(item, catalog, pics)\n",
    "\n",
    "catalog.to_excel('catalog.xlsx')\n",
    "pics.to_excel('pics.xlsx')"
   ]
  },
  {
   "cell_type": "code",
   "execution_count": 5,
   "metadata": {},
   "outputs": [],
   "source": [
    "# открываем из экселек \n",
    "\n",
    "price = pd.read_csv('price.csv', encoding='windows-1251', sep=';')\n",
    "price = price.rename(columns={'Номенклатура': 'name'})\n",
    "price.name = price.name.str.strip()\n",
    "price['Цена'] = price['Цена'].str.replace(u'\\xa0', u' ')\n",
    "price['Цена'] = price['Цена'].str.replace(u' ', u'')\n",
    "price['Цена'] = price['Цена'].str.replace(u',', u'.')\n",
    "price['Остаток'] = price['Остаток'].str.replace(u'\\xa0', u' ')\n",
    "price['Остаток'] = price['Остаток'].str.replace(u' ', u'')\n",
    "price['Остаток'] = price['Остаток'].str.replace(u',', u'.')\n",
    "\n",
    "catalog = pd.read_excel('catalog.xlsx')\n",
    "catalog.name = catalog.name.str.strip()\n",
    "catalog.description.fillna('', inplace=True)\n",
    "catalog.description = catalog.description.str.strip()\n",
    "\n",
    "merged=pd.merge(catalog, price, on='name', how='inner')\n",
    "\n",
    "pics = pd.read_excel('pics.xlsx')\n",
    "pics.name = pics.name.str.strip()"
   ]
  },
  {
   "cell_type": "code",
   "execution_count": 108,
   "metadata": {},
   "outputs": [],
   "source": [
    "# Выгрузка категорий на сайт\n",
    "\n",
    "parent_id = dict()\n",
    "for cat in set(category_parent.values()):\n",
    "    data = {\n",
    "        \"name\": cat\n",
    "    }\n",
    "    r = wcapi.post(\"products/categories\", data)\n",
    "    parent_id[cat] = r.json()['id']\n",
    "    \n",
    "\n",
    "category_id = dict()\n",
    "for cat in category:\n",
    "    data = {\n",
    "        \"name\": category[cat],\n",
    "        \"parent\": parent_id[category_parent[cat]]\n",
    "    }\n",
    "    r = wcapi.post(\"products/categories\", data)\n",
    "    category_id[cat] = r.json()['id']"
   ]
  },
  {
   "cell_type": "code",
   "execution_count": 205,
   "metadata": {},
   "outputs": [],
   "source": [
    "merged.replace({'category': category_id}, inplace=True)\n",
    "merged['Цена'].fillna('', inplace=True)"
   ]
  },
  {
   "cell_type": "code",
   "execution_count": 251,
   "metadata": {},
   "outputs": [],
   "source": [
    "df = merged\n",
    "sku_id = dict()"
   ]
  },
  {
   "cell_type": "code",
   "execution_count": 274,
   "metadata": {},
   "outputs": [],
   "source": [
    "for i in range(df.shape[0]):\n",
    "    if df['Артикул'][i] in sku_id.keys():\n",
    "        continue\n",
    "        \n",
    "    data = {\n",
    "        'name': df['name'][i],\n",
    "        'sku': df['Артикул'][i],\n",
    "        'regular_price': df['Цена'][i],\n",
    "        'description': df['description'][i],\n",
    "        'categories': [\n",
    "            {\n",
    "                'id': int(df['category'][i])\n",
    "            }\n",
    "        ],\n",
    "        'images': [{'src': url} for url in pics[pics.name==df['name'][i]]['img_url']],\n",
    "        \n",
    "        'manage_stock': True,\n",
    "        'stock_quantity': int(float(df['Остаток'][i]))\n",
    "    }\n",
    "    \n",
    "    r = wcapi.post(\"products\", data)\n",
    "    \n",
    "    if r.status_code != 201:\n",
    "        print('ERROR: ' + str(r.status_code))\n",
    "        print('SKU: ' + str(df['Артикул'][i]))\n",
    "        print('DATA: ' + str(data))\n",
    "        print(r.json())\n",
    "        print('i: '+str(i))\n",
    "        break\n",
    "        \n",
    "    sku_id[df['Артикул'][i]] = r.json()['id']\n",
    "    uploaded_sku.add(df['Артикул'][i])"
   ]
  },
  {
   "cell_type": "markdown",
   "metadata": {},
   "source": [
    " "
   ]
  },
  {
   "cell_type": "code",
   "execution_count": 14,
   "metadata": {},
   "outputs": [],
   "source": [
    "wcapi = API(\n",
    "    url='https://growprofi.ru/',\n",
    "    consumer_key='ck_aab26433cc72833f5e8b15617d11765b6c45adeb',\n",
    "    consumer_secret='cs_c77d45ea53d72ce60c4bbb9bbdc38fe99031cfa4',\n",
    "    timeout=200\n",
    ")"
   ]
  },
  {
   "cell_type": "code",
   "execution_count": 15,
   "metadata": {},
   "outputs": [],
   "source": [
    "with open('sku_id.json', 'r') as f: \n",
    "    sku_id = json.load(f)"
   ]
  },
  {
   "cell_type": "markdown",
   "metadata": {},
   "source": [
    " "
   ]
  },
  {
   "cell_type": "code",
   "execution_count": 21,
   "metadata": {},
   "outputs": [
    {
     "data": {
      "text/plain": [
       "876"
      ]
     },
     "execution_count": 21,
     "metadata": {},
     "output_type": "execute_result"
    }
   ],
   "source": [
    "len(sku_id.values())"
   ]
  },
  {
   "cell_type": "markdown",
   "metadata": {},
   "source": [
    "ОБНОВЛЕНИЕ НАЛИЧИЯ:"
   ]
  },
  {
   "cell_type": "code",
   "execution_count": 16,
   "metadata": {},
   "outputs": [],
   "source": [
    "price = pd.read_csv('price.csv', encoding='windows-1251', sep=';')\n",
    "\n",
    "price = price.rename(columns={'Номенклатура': 'name'})\n",
    "price.name = price.name.str.strip()\n",
    "\n",
    "price['Цена'] = price['Цена'].str.replace(u'\\xa0', u' ')\n",
    "price['Цена'] = price['Цена'].str.replace(u' ', u'')\n",
    "price['Цена'] = price['Цена'].str.replace(u',', u'.')\n",
    "price['Остаток'] = price['Остаток'].str.replace(u'\\xa0', u' ')\n",
    "price['Остаток'] = price['Остаток'].str.replace(u' ', u'')\n",
    "price['Остаток'] = price['Остаток'].str.replace(u',', u'.')\n",
    "price['Цена'].fillna('0', inplace=True)\n",
    "price['Цена'] = price['Цена'].astype('float')\n",
    "price['Цена'] = np.floor(price['Цена'])\n",
    "price['Цена'] = price['Цена'].astype('int')"
   ]
  },
  {
   "cell_type": "code",
   "execution_count": 17,
   "metadata": {},
   "outputs": [
    {
     "name": "stdout",
     "output_type": "stream",
     "text": [
      "ERROR: 400\n",
      "SKU: MONT-PFCH\n",
      "DATA: {'regular_price': '3205', 'stock_quantity': 0}\n",
      "{'code': 'woocommerce_rest_product_invalid_id', 'message': 'Неверный ID.', 'data': {'status': 400}}\n",
      "i: 3\n"
     ]
    }
   ],
   "source": [
    "updated = 0\n",
    "\n",
    "for i in range (price.shape[0]):\n",
    "    if price['Артикул'][i] not in sku_id.keys():\n",
    "        continue\n",
    "    \n",
    "    amnt = 1\n",
    "    many = re.search(regexp, price.name[i])\n",
    "    if many:\n",
    "        amnt = int(many.group(1))\n",
    "    \n",
    "    data = {\n",
    "        'regular_price': str(int(price['Цена'][i]/amnt)),\n",
    "        'stock_quantity': int(float(price['Остаток'][i]) * amnt)\n",
    "    }\n",
    "    \n",
    "    id = sku_id[price['Артикул'][i]]\n",
    "    \n",
    "    r = wcapi.put('products/'+str(id), data)\n",
    "    \n",
    "    if r.status_code != 200:\n",
    "        print('ERROR: ' + str(r.status_code))\n",
    "        print('SKU: ' + str(price['Артикул'][i]))\n",
    "        print('DATA: ' + str(data))\n",
    "        print(r.json())\n",
    "        print('i: '+str(i))\n",
    "        break\n",
    "    \n",
    "    updated +=1"
   ]
  },
  {
   "cell_type": "markdown",
   "metadata": {},
   "source": [
    " "
   ]
  },
  {
   "cell_type": "markdown",
   "metadata": {},
   "source": [
    "РАЗОВАЯ КОРРЕКТИРОВКА ОПИСАНИЯ на основе xml файла"
   ]
  },
  {
   "cell_type": "code",
   "execution_count": 75,
   "metadata": {},
   "outputs": [],
   "source": [
    "tree = etree.parse(\"avito_changed_desc.xml\")\n",
    "root = tree.getroot()\n",
    "\n",
    "for ad in root.getchildren():\n",
    "    sku = ad.find('Id').text\n",
    "    desc = ad.find('Description').text\n",
    "    \n",
    "    data = {\n",
    "        'description': desc\n",
    "    }\n",
    "    \n",
    "    id = sku_id[sku]\n",
    "    \n",
    "    r = wcapi.put('products/'+str(id), data)\n",
    "    \n",
    "    if r.status_code != 200:\n",
    "        print('ERROR: ' + str(r.status_code))\n",
    "        print('SKU: ' + sku)\n",
    "        print('DATA: ' + str(data))\n",
    "        print(r.json())\n",
    "        print('i: '+str(i))\n",
    "        break"
   ]
  },
  {
   "cell_type": "markdown",
   "metadata": {},
   "source": [
    " "
   ]
  },
  {
   "cell_type": "markdown",
   "metadata": {},
   "source": [
    "РАЗОВАЯ КОРРЕКТИРОВКА ИМЕН (ШТ/УП) на сайте"
   ]
  },
  {
   "cell_type": "code",
   "execution_count": 13,
   "metadata": {},
   "outputs": [],
   "source": [
    "regexp = ',*\\s*(\\d+)\\s*шт/уп'"
   ]
  },
  {
   "cell_type": "code",
   "execution_count": 109,
   "metadata": {},
   "outputs": [],
   "source": [
    "for id in sku_id.values():\n",
    "    r = wcapi.get('products/{}'.format(id))\n",
    "    name = r.json()['name']\n",
    "    edited_name = re.sub(regexp, '', name)\n",
    "    edited_name = re.sub('\\(\\)', '', edited_name)\n",
    "    edited_name = re.sub('\\s\\s', ' ', edited_name)\n",
    "    \n",
    "    if name != edited_name:    \n",
    "        data = {\n",
    "            'name': edited_name\n",
    "        }\n",
    "        r = wcapi.put('products/'+str(id), data)\n",
    "    \n",
    "        if r.status_code != 200:\n",
    "            print('ERROR: ' + str(r.status_code))\n",
    "            print('ID: ' + str(id))\n",
    "            print('DATA: ' + str(data))\n",
    "            print(r.json())\n",
    "            print('i: '+str(i))\n",
    "            break"
   ]
  },
  {
   "cell_type": "code",
   "execution_count": null,
   "metadata": {},
   "outputs": [],
   "source": []
  }
 ],
 "metadata": {
  "kernelspec": {
   "display_name": "Python 3",
   "language": "python",
   "name": "python3"
  },
  "language_info": {
   "codemirror_mode": {
    "name": "ipython",
    "version": 3
   },
   "file_extension": ".py",
   "mimetype": "text/x-python",
   "name": "python",
   "nbconvert_exporter": "python",
   "pygments_lexer": "ipython3",
   "version": "3.7.3"
  }
 },
 "nbformat": 4,
 "nbformat_minor": 2
}
